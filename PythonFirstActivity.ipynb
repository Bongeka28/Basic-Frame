{
  "nbformat": 4,
  "nbformat_minor": 0,
  "metadata": {
    "colab": {
      "provenance": [],
      "authorship_tag": "ABX9TyNpcXX8QO86XA1NU/adZLDN",
      "include_colab_link": true
    },
    "kernelspec": {
      "name": "python3",
      "display_name": "Python 3"
    },
    "language_info": {
      "name": "python"
    }
  },
  "cells": [
    {
      "cell_type": "markdown",
      "metadata": {
        "id": "view-in-github",
        "colab_type": "text"
      },
      "source": [
        "<a href=\"https://colab.research.google.com/github/Bongeka28/Basic-Frame/blob/main/PythonFirstActivity.ipynb\" target=\"_parent\"><img src=\"https://colab.research.google.com/assets/colab-badge.svg\" alt=\"Open In Colab\"/></a>"
      ]
    },
    {
      "cell_type": "code",
      "execution_count": 1,
      "metadata": {
        "colab": {
          "base_uri": "https://localhost:8080/"
        },
        "id": "Kyb4cQ7_P3vV",
        "outputId": "52860760-04bb-4073-e20e-60f4e8c55548"
      },
      "outputs": [
        {
          "output_type": "stream",
          "name": "stdout",
          "text": [
            "Enter your name: Bongeka\n",
            "Hello Bongeka ! Welcom\n"
          ]
        }
      ],
      "source": [
        "name = input(\"Enter your name: \")\n",
        "print(\"Hello\",name,\"! Welcome\")"
      ]
    },
    {
      "cell_type": "code",
      "source": [
        "#SIngle variable\n",
        "s =\"Bob\"\n",
        "print(s)\n",
        "\n",
        "#Multiple variable\n",
        "s=\"Alice\"\n",
        "age=25\n",
        "city = \"Dan\"\n",
        "print(s,age,city)"
      ],
      "metadata": {
        "colab": {
          "base_uri": "https://localhost:8080/"
        },
        "id": "CLRUPEf97C6H",
        "outputId": "c3226dac-ddf0-4ac1-f60e-015c5578cfe3"
      },
      "execution_count": 3,
      "outputs": [
        {
          "output_type": "stream",
          "name": "stdout",
          "text": [
            "Bob\n",
            "Alice 25 Dan\n"
          ]
        }
      ]
    },
    {
      "cell_type": "code",
      "source": [
        "firstname = input(\"Enter your firstname\")\n",
        "lastname= input(\"Enter your lastname\")\n",
        "age = input(\"Enter your age\")\n",
        "loc =input(\"Enter your location\")\n",
        "print(\"Firstname: \",firstname,\"\\nLastname: \",lastname,\"\\nAge: \",age,\"Location :\",loc)"
      ],
      "metadata": {
        "colab": {
          "base_uri": "https://localhost:8080/"
        },
        "id": "pqT0RFVn7clL",
        "outputId": "b3d6fb3d-f546-482f-8606-e519e7ba6ba9"
      },
      "execution_count": 4,
      "outputs": [
        {
          "output_type": "stream",
          "name": "stdout",
          "text": [
            "Enter your firstnameBongeka\n",
            "Enter your lastnameMdluli\n",
            "Enter your age25\n",
            "Enter your locationJoburg\n",
            "Firstname:  Bongeka \n",
            "Lastname:  Mdluli \n",
            "Age:  25 Location : Joburg\n"
          ]
        }
      ]
    },
    {
      "cell_type": "code",
      "source": [
        "#Taking two inputs at a time\n",
        "x,y = input(\"Enter two values: \").split()\n",
        "print(\"Number of males in IDA117v : \",x)\n",
        "print(\"Number of females in IDA117V : \",y)"
      ],
      "metadata": {
        "colab": {
          "base_uri": "https://localhost:8080/"
        },
        "id": "n2bmGGMj-J8c",
        "outputId": "e8f1b4e2-bf87-48da-f00e-ddd469b49430"
      },
      "execution_count": 10,
      "outputs": [
        {
          "output_type": "stream",
          "name": "stdout",
          "text": [
            "Enter two values: 12 23\n",
            "Number of males in IDA117v :  12\n",
            "Number of females in IDA117V :  23\n"
          ]
        }
      ]
    },
    {
      "cell_type": "code",
      "source": [
        "#Taking input as int\n",
        "#Typecasting to int\n",
        "n = int(input(\"How many roses ? \"))\n",
        "print(n)"
      ],
      "metadata": {
        "colab": {
          "base_uri": "https://localhost:8080/"
        },
        "id": "d1H0nsTb_YXF",
        "outputId": "b11e0f5d-f7c7-4b05-a7ba-4ff8ea196141"
      },
      "execution_count": 12,
      "outputs": [
        {
          "output_type": "stream",
          "name": "stdout",
          "text": [
            "How many roses ? 7\n",
            "7\n"
          ]
        }
      ]
    },
    {
      "cell_type": "code",
      "source": [
        "a = \"Hello world\"\n",
        "b=2\n",
        "c=11.22\n",
        "d=(\"Geeks\",\"for\",\"Geeks\")\n",
        "e=[\"Geeks\",\"for\",\"Geeks\"]\n",
        "f={\"Geeks\": 1,\"for\": 2,\"Geeks\": 3}\n",
        "\n",
        "print(type(a))\n",
        "print(type(b))\n",
        "print(type(c))\n",
        "print(type(d))\n",
        "print(type(e))\n",
        "print(type(f))"
      ],
      "metadata": {
        "colab": {
          "base_uri": "https://localhost:8080/"
        },
        "id": "18yEN1i0ALJ5",
        "outputId": "e4eea800-a061-4b8c-bf94-4170c59dbd3c"
      },
      "execution_count": 14,
      "outputs": [
        {
          "output_type": "stream",
          "name": "stdout",
          "text": [
            "<class 'str'>\n",
            "<class 'int'>\n",
            "<class 'float'>\n",
            "<class 'tuple'>\n",
            "<class 'list'>\n",
            "<class 'dict'>\n"
          ]
        }
      ]
    },
    {
      "cell_type": "code",
      "source": [
        "age = int(input(\"Enter your age: \" ))\n",
        "if age >=18:\n",
        "  print(\"Eligible\")\n",
        "else:\n",
        "    print(\"Not Eligible\")"
      ],
      "metadata": {
        "colab": {
          "base_uri": "https://localhost:8080/"
        },
        "id": "zITv49WfBcRu",
        "outputId": "cc45864c-f985-4c03-9be6-7767b860be88"
      },
      "execution_count": 18,
      "outputs": [
        {
          "output_type": "stream",
          "name": "stdout",
          "text": [
            "Enter your age: 22\n",
            "Eligible\n"
          ]
        }
      ]
    },
    {
      "cell_type": "code",
      "source": [
        "username= input(\"Enter username: \")\n",
        "password= input(\"Enter password: \")\n",
        "\n",
        "if username==\"admin\":\n",
        "    if password == \"1234\":\n",
        "      print(\"Login successful\")\n",
        "    else:\n",
        "      print(\"Incorrect password\")\n",
        "else:\n",
        "  print(\"Incorrect Username\")"
      ],
      "metadata": {
        "colab": {
          "base_uri": "https://localhost:8080/"
        },
        "id": "8QPmyEsdC-9G",
        "outputId": "54dd1831-082e-469d-a031-97de655b86f3"
      },
      "execution_count": 21,
      "outputs": [
        {
          "output_type": "stream",
          "name": "stdout",
          "text": [
            "Enter username: ee\n",
            "Enter password: 1234\n",
            "Incorrect Username\n"
          ]
        }
      ]
    },
    {
      "cell_type": "code",
      "source": [
        "password = \"\"\n",
        "while password != \"python123\":\n",
        "  password= input(\"Enter the password: \")\n",
        "print(\"Access granted\")\n"
      ],
      "metadata": {
        "colab": {
          "base_uri": "https://localhost:8080/"
        },
        "id": "7NsveQLWD8IY",
        "outputId": "60fc1d8b-88a5-4c03-85f0-89c9d53d8de7"
      },
      "execution_count": 23,
      "outputs": [
        {
          "output_type": "stream",
          "name": "stdout",
          "text": [
            "Enter the password: 123\n",
            "Enter the password: ee\n",
            "Enter the password: python123\n",
            "Access granted\n"
          ]
        }
      ]
    },
    {
      "cell_type": "code",
      "source": [
        "pip install pandas\n"
      ],
      "metadata": {
        "colab": {
          "base_uri": "https://localhost:8080/"
        },
        "id": "oOQthYSEE9zE",
        "outputId": "5c81199d-7ff0-4ee6-9a1d-fe4c8577349a"
      },
      "execution_count": 24,
      "outputs": [
        {
          "output_type": "stream",
          "name": "stdout",
          "text": [
            "Requirement already satisfied: pandas in /usr/local/lib/python3.11/dist-packages (2.2.2)\n",
            "Requirement already satisfied: numpy>=1.23.2 in /usr/local/lib/python3.11/dist-packages (from pandas) (2.0.2)\n",
            "Requirement already satisfied: python-dateutil>=2.8.2 in /usr/local/lib/python3.11/dist-packages (from pandas) (2.9.0.post0)\n",
            "Requirement already satisfied: pytz>=2020.1 in /usr/local/lib/python3.11/dist-packages (from pandas) (2025.2)\n",
            "Requirement already satisfied: tzdata>=2022.7 in /usr/local/lib/python3.11/dist-packages (from pandas) (2025.2)\n",
            "Requirement already satisfied: six>=1.5 in /usr/local/lib/python3.11/dist-packages (from python-dateutil>=2.8.2->pandas) (1.17.0)\n"
          ]
        }
      ]
    },
    {
      "cell_type": "code",
      "source": [
        "import pandas as pd"
      ],
      "metadata": {
        "id": "6UCxBKo-FGA-"
      },
      "execution_count": 26,
      "outputs": []
    },
    {
      "cell_type": "code",
      "source": [
        "import pandas as pd\n",
        "import numpy as np\n",
        "\n",
        "ser = pd.Series()\n",
        "print(\"Pandas Series: \",ser)\n",
        "\n",
        "data = np.array(['g','e','e','k','s'])\n",
        "\n",
        "ser = pd.Series(data)\n",
        "print(\"Pandas series:\\n\",ser)"
      ],
      "metadata": {
        "colab": {
          "base_uri": "https://localhost:8080/"
        },
        "id": "0XWhzu3hFMvE",
        "outputId": "c87957cd-34f9-4129-d6b6-4b940dedce6b"
      },
      "execution_count": 27,
      "outputs": [
        {
          "output_type": "stream",
          "name": "stdout",
          "text": [
            "Pandas Series:  Series([], dtype: object)\n",
            "Pandas series:\n",
            " 0    g\n",
            "1    e\n",
            "2    e\n",
            "3    k\n",
            "4    s\n",
            "dtype: object\n"
          ]
        }
      ]
    },
    {
      "cell_type": "code",
      "source": [
        "import pandas as pd\n",
        "\n",
        "df = pd.DataFrame()\n",
        "print(df)\n",
        "\n",
        "lst = [\"Geeks\",\"For\",\"Geeks\",\"is\",\"portal\",\"for\",\"Geeks\"]\n",
        "\n",
        "df= pd.DataFrame(lst)\n",
        "print(df)"
      ],
      "metadata": {
        "colab": {
          "base_uri": "https://localhost:8080/"
        },
        "id": "yZMGmpFDF6ji",
        "outputId": "a49d3151-720f-4328-b819-952cbb4f7876"
      },
      "execution_count": 28,
      "outputs": [
        {
          "output_type": "stream",
          "name": "stdout",
          "text": [
            "Empty DataFrame\n",
            "Columns: []\n",
            "Index: []\n",
            "        0\n",
            "0   Geeks\n",
            "1     For\n",
            "2   Geeks\n",
            "3      is\n",
            "4  portal\n",
            "5     for\n",
            "6   Geeks\n"
          ]
        }
      ]
    },
    {
      "cell_type": "code",
      "source": [
        "import pandas as pd\n",
        "import numpy as np\n",
        "\n",
        "data = np.array([[1,2,3],[4,5,6],[7,8,9]])\n",
        "df = pd.DataFrame(data, columns = ['A','B','C'])\n",
        "print(df)\n"
      ],
      "metadata": {
        "colab": {
          "base_uri": "https://localhost:8080/"
        },
        "id": "BYFFw5EcGcTK",
        "outputId": "23032b8e-cc0f-4bfa-fc11-a73382dd13c0"
      },
      "execution_count": 30,
      "outputs": [
        {
          "output_type": "stream",
          "name": "stdout",
          "text": [
            "   A  B  C\n",
            "0  1  2  3\n",
            "1  4  5  6\n",
            "2  7  8  9\n"
          ]
        }
      ]
    },
    {
      "cell_type": "code",
      "source": [
        "import pandas as pd\n",
        "\n",
        "dict = {'name' : [\"apama\",\"pamka\",\"sudhir\",\"Geeku\"],\n",
        "        'degree': [\"MBA\",\"BCA\",\"M.TECH\",\"MBA\"],\n",
        "        'score': [90,40,80,98]}\n",
        "\n",
        "df = pd.DataFrame(dict)\n",
        "print(df)"
      ],
      "metadata": {
        "colab": {
          "base_uri": "https://localhost:8080/"
        },
        "id": "gFy7cxbDHUI3",
        "outputId": "5c9cf294-5d12-4b65-8a06-2ce667868774"
      },
      "execution_count": 31,
      "outputs": [
        {
          "output_type": "stream",
          "name": "stdout",
          "text": [
            "     name  degree  score\n",
            "0   apama     MBA     90\n",
            "1   pamka     BCA     40\n",
            "2  sudhir  M.TECH     80\n",
            "3   Geeku     MBA     98\n"
          ]
        }
      ]
    },
    {
      "cell_type": "code",
      "source": [
        "import pandas as pd\n",
        "\n",
        "data = {'Name' : [\"John\",\"Alice\",\"Bob\",\"Eve\",\"Charlie\"],\n",
        "        'Age': [25,30,22,35,18],\n",
        "        'Gender': [\"Male\",\"Female\",\"Male\",\"Female\",\"Male\"],\n",
        "        'Salary': [50000,55000,40000,70000,40000]}\n",
        "\n",
        "df = pd.DataFrame(data)\n",
        "print(df.index) #Accessing the index"
      ],
      "metadata": {
        "colab": {
          "base_uri": "https://localhost:8080/"
        },
        "id": "Txz8FxxbIHZp",
        "outputId": "e08b0bd0-636c-400a-8618-387b5ff498a0"
      },
      "execution_count": 32,
      "outputs": [
        {
          "output_type": "stream",
          "name": "stdout",
          "text": [
            "RangeIndex(start=0, stop=5, step=1)\n"
          ]
        }
      ]
    },
    {
      "cell_type": "code",
      "source": [
        "#Set name column as index\n",
        "\n",
        "df_with_index = df.set_index('Name')\n",
        "print(df_with_index)"
      ],
      "metadata": {
        "colab": {
          "base_uri": "https://localhost:8080/"
        },
        "id": "TBdCoxP7I1-2",
        "outputId": "dbf90cca-9184-4669-d38a-abeae761330a"
      },
      "execution_count": 33,
      "outputs": [
        {
          "output_type": "stream",
          "name": "stdout",
          "text": [
            "         Age  Gender  Salary\n",
            "Name                        \n",
            "John      25    Male   50000\n",
            "Alice     30  Female   55000\n",
            "Bob       22    Male   40000\n",
            "Eve       35  Female   70000\n",
            "Charlie   18    Male   40000\n"
          ]
        }
      ]
    },
    {
      "cell_type": "code",
      "source": [
        "#Reset the indexback to the default integer index\n",
        "\n",
        "df_reset = df.reset_index()\n",
        "print(df_reset)"
      ],
      "metadata": {
        "colab": {
          "base_uri": "https://localhost:8080/"
        },
        "id": "siXJlZhMKLtP",
        "outputId": "41bd7c93-00cd-4898-a627-f473597147f0"
      },
      "execution_count": 34,
      "outputs": [
        {
          "output_type": "stream",
          "name": "stdout",
          "text": [
            "   index     Name  Age  Gender  Salary\n",
            "0      0     John   25    Male   50000\n",
            "1      1    Alice   30  Female   55000\n",
            "2      2      Bob   22    Male   40000\n",
            "3      3      Eve   35  Female   70000\n",
            "4      4  Charlie   18    Male   40000\n"
          ]
        }
      ]
    },
    {
      "cell_type": "code",
      "source": [
        "row = df_with_index.loc['Alice']\n",
        "print(row)"
      ],
      "metadata": {
        "colab": {
          "base_uri": "https://localhost:8080/"
        },
        "id": "yY-4wGWQKhm2",
        "outputId": "a2d0e8cf-02e5-4cf4-a4d3-581cbcb9ce32"
      },
      "execution_count": 35,
      "outputs": [
        {
          "output_type": "stream",
          "name": "stdout",
          "text": [
            "Age           30\n",
            "Gender    Female\n",
            "Salary     55000\n",
            "Name: Alice, dtype: object\n"
          ]
        }
      ]
    }
  ]
}